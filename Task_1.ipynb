{
 "cells": [
  {
   "cell_type": "code",
   "execution_count": 10,
   "id": "aac80c9a-74d9-4da6-bd5f-d53e7e8631e6",
   "metadata": {},
   "outputs": [
    {
     "name": "stdout",
     "output_type": "stream",
     "text": [
      "4.0.0\n"
     ]
    }
   ],
   "source": [
    "import pyspark\n",
    "print(pyspark.__version__)\n",
    "\n"
   ]
  },
  {
   "cell_type": "code",
   "execution_count": 11,
   "id": "a96437b3-d701-4f57-849d-4742514ce92f",
   "metadata": {},
   "outputs": [],
   "source": [
    "from pyspark.sql import SparkSession\n",
    "#Initialize spark\n",
    "spark = SparkSession.builder.appName(\"TitanicPreprocessing\").getOrCreate()\n"
   ]
  },
  {
   "cell_type": "code",
   "execution_count": 19,
   "id": "54ab7577-2bb5-4084-bf46-9b05bdd4e70e",
   "metadata": {},
   "outputs": [
    {
     "name": "stdout",
     "output_type": "stream",
     "text": [
      "root\n",
      " |-- PassengerId: integer (nullable = true)\n",
      " |-- Survived: integer (nullable = true)\n",
      " |-- Pclass: integer (nullable = true)\n",
      " |-- Name: string (nullable = true)\n",
      " |-- Sex: string (nullable = true)\n",
      " |-- Age: double (nullable = true)\n",
      " |-- SibSp: integer (nullable = true)\n",
      " |-- Parch: integer (nullable = true)\n",
      " |-- Ticket: string (nullable = true)\n",
      " |-- Fare: double (nullable = true)\n",
      " |-- Cabin: string (nullable = true)\n",
      " |-- Embarked: string (nullable = true)\n",
      "\n",
      "['PassengerId', 'Survived', 'Pclass', 'Name', 'Sex', 'Age', 'SibSp', 'Parch', 'Ticket', 'Fare', 'Cabin', 'Embarked']\n"
     ]
    }
   ],
   "source": [
    "#Load the dataset\n",
    "\n",
    "df = spark.read.option(\"header\", \"true\").option(\"inferSchema\", \"true\").csv(\"titanic.csv\")\n",
    "\n",
    "df.printSchema()\n",
    "print(df.columns)\n"
   ]
  },
  {
   "cell_type": "code",
   "execution_count": 20,
   "id": "db43e9eb-fdc1-4c6d-a593-67e7f273f685",
   "metadata": {},
   "outputs": [],
   "source": [
    "# Calculate median age\n",
    "age_median = df.selectExpr(\"percentile_approx(Age, 0.5)\").collect()[0][0]\n",
    "df = df.fillna({\"Age\": age_median})  # Fill missing Age values\n",
    "\n",
    "# Fill missing Embarked with the most frequent value\n",
    "embarked_mode = df.groupby(\"Embarked\").count().orderBy(\"count\", ascending=False).first()[\"Embarked\"]\n",
    "df = df.fillna({\"Embarked\": embarked_mode})  # Fill missing Embarked values\n",
    "\n",
    "# Drop rows where Fare is missing\n",
    "df = df.na.drop(subset=[\"Fare\"])\n"
   ]
  },
  {
   "cell_type": "code",
   "execution_count": 21,
   "id": "a1daa448-102d-41fc-acf1-f03ad6d4cf4d",
   "metadata": {},
   "outputs": [],
   "source": [
    "#Removing the duplicates\n",
    "df = df.dropDuplicates()\n"
   ]
  },
  {
   "cell_type": "code",
   "execution_count": 22,
   "id": "f6ea3109-c4d9-44a8-98cf-db97cccd9c69",
   "metadata": {},
   "outputs": [],
   "source": [
    "#Convert the datatype\n",
    "df = df.withColumn(\"Fare\", df[\"Fare\"].cast(\"double\"))\n",
    "df = df.withColumn(\"Age\", df[\"Age\"].cast(\"double\"))\n"
   ]
  },
  {
   "cell_type": "code",
   "execution_count": 23,
   "id": "4ed615a6-1bf9-4de7-9b72-63f79ef25c0a",
   "metadata": {},
   "outputs": [
    {
     "name": "stdout",
     "output_type": "stream",
     "text": [
      "+-----------+--------+------+--------------------+------+----+-----+-----+--------+--------+-----------+--------+\n",
      "|PassengerId|Survived|Pclass|                Name|   Sex| Age|SibSp|Parch|  Ticket|    Fare|      Cabin|Embarked|\n",
      "+-----------+--------+------+--------------------+------+----+-----+-----+--------+--------+-----------+--------+\n",
      "|          2|       1|     1|Cumings, Mrs. Joh...|female|38.0|    1|    0|PC 17599| 71.2833|        C85|       C|\n",
      "|         24|       1|     1|Sloper, Mr. Willi...|  male|28.0|    0|    0|  113788|    35.5|         A6|       S|\n",
      "|        680|       1|     1|Cardeza, Mr. Thom...|  male|36.0|    0|    1|PC 17755|512.3292|B51 B53 B55|       C|\n",
      "|        292|       1|     1|Bishop, Mrs. Dick...|female|19.0|    1|    0|   11967| 91.0792|        B49|       C|\n",
      "|        330|       1|     1|Hippach, Miss. Je...|female|16.0|    0|    1|  111361| 57.9792|        B18|       C|\n",
      "+-----------+--------+------+--------------------+------+----+-----+-----+--------+--------+-----------+--------+\n",
      "only showing top 5 rows\n"
     ]
    }
   ],
   "source": [
    "df.show(5)\n"
   ]
  },
  {
   "cell_type": "code",
   "execution_count": null,
   "id": "c1530c56-2a29-4a09-b779-f17ec302fdd7",
   "metadata": {},
   "outputs": [],
   "source": []
  }
 ],
 "metadata": {
  "kernelspec": {
   "display_name": "Python 3 (ipykernel)",
   "language": "python",
   "name": "python3"
  },
  "language_info": {
   "codemirror_mode": {
    "name": "ipython",
    "version": 3
   },
   "file_extension": ".py",
   "mimetype": "text/x-python",
   "name": "python",
   "nbconvert_exporter": "python",
   "pygments_lexer": "ipython3",
   "version": "3.10.11"
  }
 },
 "nbformat": 4,
 "nbformat_minor": 5
}
